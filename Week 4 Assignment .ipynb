{
 "cells": [
  {
   "cell_type": "markdown",
   "metadata": {},
   "source": [
    "# week4 Assignment\n",
    "\n",
    "## The battle of Neighborhood week1"
   ]
  },
  {
   "cell_type": "markdown",
   "metadata": {},
   "source": [
    "##  Introduction"
   ]
  },
  {
   "cell_type": "markdown",
   "metadata": {},
   "source": [
    "This is the IBM Data science Capstone project. In this project, I will address the problem of a client who wants to open a restaurant in New York. The Clint who is an entrepreneur have lots of questions regarding his/her restaurant so have decided to consult a Data scientist to answer his/her questions based on the market data available.\n",
    "The main purpose of this project is to find the appropriate location to open a restaurant. So I am designing this project to help my client to find the most suitable location.\n"
   ]
  },
  {
   "cell_type": "markdown",
   "metadata": {},
   "source": [
    "##  Business problem"
   ]
  },
  {
   "cell_type": "markdown",
   "metadata": {},
   "source": [
    "A restaurant is a business which prepares and serves food and drink to customers in return for money, The City of New York is famous for its excellent cuisine. Its food culture includes an array of international cuisines influenced by the city's immigrant history.\n",
    "Sushi restaurants have become so popular in the United States now it seems that there is one on every corner, not only in major cities but also in smaller cities. Starting a sushi restaurant can be a great business opportunity, but you need to distinguish yourself from others to enjoy long-term success."
   ]
  },
  {
   "cell_type": "markdown",
   "metadata": {},
   "source": [
    "Opening a restaurant is very challenging, hence the main focus is given to neighborhoods and other outlets which are already operational. \n"
   ]
  },
  {
   "cell_type": "markdown",
   "metadata": {},
   "source": [
    "## Target Audience:"
   ]
  },
  {
   "cell_type": "markdown",
   "metadata": {},
   "source": [
    "My Client who wants to open his business in Manhattan area, so I will only focus on that during my analysis. The objective is to locate and recommend to the management which neighborhood of New york city will be best choice to start a restaurant. The Management also expects to understand the rationale of the recommendations made.\n"
   ]
  },
  {
   "cell_type": "markdown",
   "metadata": {},
   "source": [
    "\n"
   ]
  },
  {
   "cell_type": "markdown",
   "metadata": {},
   "source": [
    "\n",
    "\n",
    "\n"
   ]
  },
  {
   "cell_type": "markdown",
   "metadata": {},
   "source": [
    "## Data Requirement and Collection"
   ]
  },
  {
   "cell_type": "markdown",
   "metadata": {},
   "source": [
    "To solve the client's problem, we will need below data: \n",
    "\n",
    "● List of neighborhoods in New york.\n",
    "\n",
    "● Latitude and Longitude of these neighborhoods\n",
    "\n",
    "● Venue data related to already existing sushi restaurants.\n",
    "\n",
    "\n",
    "This will help us find the neighborhoods that are more suitable to open an sushi Restaurant.   \n",
    "\n",
    "#### EXTRACTING THE DATA  \n",
    "● The New York neighborhoods data is available at the given link.\n",
    "\n",
    "        https://geo.nyu.edu/catalog/nyu_2451_34572\n",
    "\n",
    "● Using Foursquare API to get venue data related to these neighborhoods.\n"
   ]
  },
  {
   "cell_type": "code",
   "execution_count": null,
   "metadata": {},
   "outputs": [],
   "source": []
  }
 ],
 "metadata": {
  "kernelspec": {
   "display_name": "Python 3",
   "language": "python",
   "name": "python3"
  },
  "language_info": {
   "codemirror_mode": {
    "name": "ipython",
    "version": 3
   },
   "file_extension": ".py",
   "mimetype": "text/x-python",
   "name": "python",
   "nbconvert_exporter": "python",
   "pygments_lexer": "ipython3",
   "version": "3.7.4"
  }
 },
 "nbformat": 4,
 "nbformat_minor": 2
}
